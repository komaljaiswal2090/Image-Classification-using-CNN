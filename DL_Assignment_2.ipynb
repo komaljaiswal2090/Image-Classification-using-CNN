{
  "nbformat": 4,
  "nbformat_minor": 0,
  "metadata": {
    "colab": {
      "name": "DL-Assignment 2.ipynb",
      "provenance": [],
      "collapsed_sections": []
    },
    "kernelspec": {
      "name": "python3",
      "display_name": "Python 3"
    }
  },
  "cells": [
    {
      "cell_type": "markdown",
      "metadata": {
        "id": "BuVm26CmCpuR",
        "colab_type": "text"
      },
      "source": [
        "-Komal Jaiswal\n",
        "\n",
        "-Kq2587\n"
      ]
    },
    {
      "cell_type": "markdown",
      "metadata": {
        "id": "YjgVvAbIKNIM",
        "colab_type": "text"
      },
      "source": [
        "#Jena Flower Image Classification using CNN\n",
        "\n",
        "#Model 1 from scratch using CNN layers\n",
        "\n",
        "This data set contains the images of 30 wild flowering angiosperm species. Classes are represented by 1 to 30 with a total of 1479 images."
      ]
    },
    {
      "cell_type": "markdown",
      "metadata": {
        "id": "0gBtPZS7CDPd",
        "colab_type": "text"
      },
      "source": [
        "This dataset is uploaded to the drive and mounted to google colaboratory using the below code:"
      ]
    },
    {
      "cell_type": "code",
      "metadata": {
        "id": "F6xk9KeMpTP4",
        "colab_type": "code",
        "outputId": "b16f8b5d-0964-41ac-dd73-59142d99d054",
        "colab": {
          "base_uri": "https://localhost:8080/",
          "height": 34
        }
      },
      "source": [
        "# Run this cell to mount your Google Drive.\n",
        "from google.colab import drive\n",
        "drive.mount('/content/drive')"
      ],
      "execution_count": 37,
      "outputs": [
        {
          "output_type": "stream",
          "text": [
            "Drive already mounted at /content/drive; to attempt to forcibly remount, call drive.mount(\"/content/drive\", force_remount=True).\n"
          ],
          "name": "stdout"
        }
      ]
    },
    {
      "cell_type": "markdown",
      "metadata": {
        "id": "NWFFapekEA4h",
        "colab_type": "text"
      },
      "source": [
        "##Step 1: Import Libraries"
      ]
    },
    {
      "cell_type": "code",
      "metadata": {
        "id": "q44S_crRpsKe",
        "colab_type": "code",
        "outputId": "39a4bbba-5560-45f0-a15f-8a44a94a00e4",
        "colab": {
          "base_uri": "https://localhost:8080/",
          "height": 80
        }
      },
      "source": [
        "from numpy.random import seed\n",
        "seed(2)\n",
        "from tensorflow import set_random_seed\n",
        "set_random_seed(2)\n",
        "import tensorflow as tf\n",
        "from tensorflow import keras\n",
        "from IPython import display\n",
        "from matplotlib import cm\n",
        "from matplotlib import gridspec\n",
        "from matplotlib import pyplot as plt\n",
        "import numpy as np\n",
        "import pandas as pd\n",
        "from tensorflow.python.data import Dataset\n",
        "from sklearn import preprocessing\n",
        "from sklearn.preprocessing import StandardScaler\n",
        "print(tf.__version__)"
      ],
      "execution_count": 2,
      "outputs": [
        {
          "output_type": "display_data",
          "data": {
            "text/html": [
              "<p style=\"color: red;\">\n",
              "The default version of TensorFlow in Colab will soon switch to TensorFlow 2.x.<br>\n",
              "We recommend you <a href=\"https://www.tensorflow.org/guide/migrate\" target=\"_blank\">upgrade</a> now \n",
              "or ensure your notebook will continue to use TensorFlow 1.x via the <code>%tensorflow_version 1.x</code> magic:\n",
              "<a href=\"https://colab.research.google.com/notebooks/tensorflow_version.ipynb\" target=\"_blank\">more info</a>.</p>\n"
            ],
            "text/plain": [
              "<IPython.core.display.HTML object>"
            ]
          },
          "metadata": {
            "tags": []
          }
        },
        {
          "output_type": "stream",
          "text": [
            "1.15.0\n"
          ],
          "name": "stdout"
        }
      ]
    },
    {
      "cell_type": "code",
      "metadata": {
        "id": "LSw1NIgBpymC",
        "colab_type": "code",
        "outputId": "05c19416-69a0-4921-c319-164afcf7f6aa",
        "colab": {
          "base_uri": "https://localhost:8080/",
          "height": 34
        }
      },
      "source": [
        "from keras.models import Sequential\n",
        "from keras.layers import Dense\n",
        "from keras.layers import Dropout\n",
        "from keras.layers import Flatten\n",
        "from keras.layers import Activation\n",
        "from keras.layers.convolutional import Conv2D\n",
        "from keras.layers.convolutional import MaxPooling2D\n",
        "from keras.layers import BatchNormalization\n",
        "from keras.preprocessing.image import ImageDataGenerator\n",
        "\n"
      ],
      "execution_count": 3,
      "outputs": [
        {
          "output_type": "stream",
          "text": [
            "Using TensorFlow backend.\n"
          ],
          "name": "stderr"
        }
      ]
    },
    {
      "cell_type": "markdown",
      "metadata": {
        "id": "W_Wms_t2EFir",
        "colab_type": "text"
      },
      "source": [
        "##Step2: Import images\n",
        "All the image files are imported from the dataset and saved  as list in jena_image"
      ]
    },
    {
      "cell_type": "code",
      "metadata": {
        "id": "5qqrsYmZp36h",
        "colab_type": "code",
        "colab": {}
      },
      "source": [
        "import os\n",
        "jena_image=list()\n",
        "for file in os.listdir(\"/content/drive/My Drive/Jena\"):\n",
        "        img=jena_image.append(os.path.join(\"/content/drive/My Drive/Jena\",file))     "
      ],
      "execution_count": 0,
      "outputs": []
    },
    {
      "cell_type": "markdown",
      "metadata": {
        "id": "9gHk5qvaFvNq",
        "colab_type": "text"
      },
      "source": [
        "The list (jena_image) which contains path of all image files are converted to dataframe jena_df , sorted and saved in the first column of the dataframe."
      ]
    },
    {
      "cell_type": "code",
      "metadata": {
        "id": "i4oaU-iap8_P",
        "colab_type": "code",
        "outputId": "51d08a0b-5a8b-4301-a8dc-9ca9f2c55932",
        "colab": {
          "base_uri": "https://localhost:8080/",
          "height": 204
        }
      },
      "source": [
        "jena_df = pd.DataFrame(jena_image)\n",
        "jena_df['colFromIndex'] = jena_df.index\n",
        "jena_df = jena_df.sort_values([0, 'colFromIndex'])\n",
        "jena_df=jena_df.reset_index()\n",
        "jena_df.head()"
      ],
      "execution_count": 5,
      "outputs": [
        {
          "output_type": "execute_result",
          "data": {
            "text/html": [
              "<div>\n",
              "<style scoped>\n",
              "    .dataframe tbody tr th:only-of-type {\n",
              "        vertical-align: middle;\n",
              "    }\n",
              "\n",
              "    .dataframe tbody tr th {\n",
              "        vertical-align: top;\n",
              "    }\n",
              "\n",
              "    .dataframe thead th {\n",
              "        text-align: right;\n",
              "    }\n",
              "</style>\n",
              "<table border=\"1\" class=\"dataframe\">\n",
              "  <thead>\n",
              "    <tr style=\"text-align: right;\">\n",
              "      <th></th>\n",
              "      <th>index</th>\n",
              "      <th>0</th>\n",
              "      <th>colFromIndex</th>\n",
              "    </tr>\n",
              "  </thead>\n",
              "  <tbody>\n",
              "    <tr>\n",
              "      <th>0</th>\n",
              "      <td>999</td>\n",
              "      <td>/content/drive/My Drive/Jena/JFT_00001.jpg</td>\n",
              "      <td>999</td>\n",
              "    </tr>\n",
              "    <tr>\n",
              "      <th>1</th>\n",
              "      <td>997</td>\n",
              "      <td>/content/drive/My Drive/Jena/JFT_00002.jpg</td>\n",
              "      <td>997</td>\n",
              "    </tr>\n",
              "    <tr>\n",
              "      <th>2</th>\n",
              "      <td>998</td>\n",
              "      <td>/content/drive/My Drive/Jena/JFT_00003.jpg</td>\n",
              "      <td>998</td>\n",
              "    </tr>\n",
              "    <tr>\n",
              "      <th>3</th>\n",
              "      <td>996</td>\n",
              "      <td>/content/drive/My Drive/Jena/JFT_00004.jpg</td>\n",
              "      <td>996</td>\n",
              "    </tr>\n",
              "    <tr>\n",
              "      <th>4</th>\n",
              "      <td>995</td>\n",
              "      <td>/content/drive/My Drive/Jena/JFT_00005.jpg</td>\n",
              "      <td>995</td>\n",
              "    </tr>\n",
              "  </tbody>\n",
              "</table>\n",
              "</div>"
            ],
            "text/plain": [
              "   index                                           0  colFromIndex\n",
              "0    999  /content/drive/My Drive/Jena/JFT_00001.jpg           999\n",
              "1    997  /content/drive/My Drive/Jena/JFT_00002.jpg           997\n",
              "2    998  /content/drive/My Drive/Jena/JFT_00003.jpg           998\n",
              "3    996  /content/drive/My Drive/Jena/JFT_00004.jpg           996\n",
              "4    995  /content/drive/My Drive/Jena/JFT_00005.jpg           995"
            ]
          },
          "metadata": {
            "tags": []
          },
          "execution_count": 5
        }
      ]
    },
    {
      "cell_type": "markdown",
      "metadata": {
        "id": "MWX4eqJ4GaNC",
        "colab_type": "text"
      },
      "source": [
        "The text file which contains the label of the images are imported as a dataframe, sorted and then saved in label_df with first column as the name of the file and corresponding label in the second column."
      ]
    },
    {
      "cell_type": "code",
      "metadata": {
        "id": "qAPXUEZRuwT0",
        "colab_type": "code",
        "outputId": "e69c8374-5284-4fe2-acb9-62609d40a202",
        "colab": {
          "base_uri": "https://localhost:8080/",
          "height": 204
        }
      },
      "source": [
        "\n",
        "label_df = pd.read_csv('classlabels.txt',header=None)\n",
        "len(label_df)\n",
        "label_df['colFromIndex'] = label_df.index\n",
        "label_df= label_df.sort_values([0,'colFromIndex'])\n",
        "label_df=label_df.reset_index()\n",
        "label_df.head()"
      ],
      "execution_count": 6,
      "outputs": [
        {
          "output_type": "execute_result",
          "data": {
            "text/html": [
              "<div>\n",
              "<style scoped>\n",
              "    .dataframe tbody tr th:only-of-type {\n",
              "        vertical-align: middle;\n",
              "    }\n",
              "\n",
              "    .dataframe tbody tr th {\n",
              "        vertical-align: top;\n",
              "    }\n",
              "\n",
              "    .dataframe thead th {\n",
              "        text-align: right;\n",
              "    }\n",
              "</style>\n",
              "<table border=\"1\" class=\"dataframe\">\n",
              "  <thead>\n",
              "    <tr style=\"text-align: right;\">\n",
              "      <th></th>\n",
              "      <th>index</th>\n",
              "      <th>0</th>\n",
              "      <th>1</th>\n",
              "      <th>colFromIndex</th>\n",
              "    </tr>\n",
              "  </thead>\n",
              "  <tbody>\n",
              "    <tr>\n",
              "      <th>0</th>\n",
              "      <td>0</td>\n",
              "      <td>JFT_00001.jpg</td>\n",
              "      <td>1</td>\n",
              "      <td>0</td>\n",
              "    </tr>\n",
              "    <tr>\n",
              "      <th>1</th>\n",
              "      <td>1</td>\n",
              "      <td>JFT_00002.jpg</td>\n",
              "      <td>1</td>\n",
              "      <td>1</td>\n",
              "    </tr>\n",
              "    <tr>\n",
              "      <th>2</th>\n",
              "      <td>2</td>\n",
              "      <td>JFT_00003.jpg</td>\n",
              "      <td>1</td>\n",
              "      <td>2</td>\n",
              "    </tr>\n",
              "    <tr>\n",
              "      <th>3</th>\n",
              "      <td>3</td>\n",
              "      <td>JFT_00004.jpg</td>\n",
              "      <td>1</td>\n",
              "      <td>3</td>\n",
              "    </tr>\n",
              "    <tr>\n",
              "      <th>4</th>\n",
              "      <td>558</td>\n",
              "      <td>JFT_00005.jpg</td>\n",
              "      <td>1</td>\n",
              "      <td>558</td>\n",
              "    </tr>\n",
              "  </tbody>\n",
              "</table>\n",
              "</div>"
            ],
            "text/plain": [
              "   index              0  1  colFromIndex\n",
              "0      0  JFT_00001.jpg  1             0\n",
              "1      1  JFT_00002.jpg  1             1\n",
              "2      2  JFT_00003.jpg  1             2\n",
              "3      3  JFT_00004.jpg  1             3\n",
              "4    558  JFT_00005.jpg  1           558"
            ]
          },
          "metadata": {
            "tags": []
          },
          "execution_count": 6
        }
      ]
    },
    {
      "cell_type": "markdown",
      "metadata": {
        "id": "GCOGRRi6HWLX",
        "colab_type": "text"
      },
      "source": [
        "##Step 3: Preprocess\n",
        "The package cv2 is imported and images are read, resized to a size of (32,32) and stored in the dataframe jena_df. Now we have corresponding array representation of the image instead of the image path in the jena_df."
      ]
    },
    {
      "cell_type": "code",
      "metadata": {
        "id": "ywoHFGJwp9Cj",
        "colab_type": "code",
        "outputId": "e288b565-d40a-4a81-c892-99376e368b68",
        "colab": {
          "base_uri": "https://localhost:8080/",
          "height": 102
        }
      },
      "source": [
        "i=0\n",
        "import cv2\n",
        "import numpy as np\n",
        "while i<len(jena_df[0]):\n",
        "  a=cv2.imread(jena_df[0][i])\n",
        "  a=cv2.resize(a,(32,32))\n",
        "  jena_df[0][i]=a\n",
        "  i+=1"
      ],
      "execution_count": 7,
      "outputs": [
        {
          "output_type": "stream",
          "text": [
            "/usr/local/lib/python3.6/dist-packages/ipykernel_launcher.py:7: SettingWithCopyWarning: \n",
            "A value is trying to be set on a copy of a slice from a DataFrame\n",
            "\n",
            "See the caveats in the documentation: http://pandas.pydata.org/pandas-docs/stable/user_guide/indexing.html#returning-a-view-versus-a-copy\n",
            "  import sys\n"
          ],
          "name": "stderr"
        }
      ]
    },
    {
      "cell_type": "markdown",
      "metadata": {
        "id": "VvayIetsJDox",
        "colab_type": "text"
      },
      "source": [
        "The label_df  which has the label of the image is combined with the dataframe jena_df . Therefore in jena_df , we have array representation of the images in first column, name of the image in second column and corresponding label in the third column."
      ]
    },
    {
      "cell_type": "code",
      "metadata": {
        "id": "-JZwRpivvyeC",
        "colab_type": "code",
        "outputId": "81dda972-6ed1-4812-ade6-f0ad4507e507",
        "colab": {
          "base_uri": "https://localhost:8080/",
          "height": 289
        }
      },
      "source": [
        "jena_df[1]=label_df[0]\n",
        "jena_df[2]=label_df[1]\n",
        "print(jena_df.head(5))\n",
        "print(jena_df.tail(5))"
      ],
      "execution_count": 8,
      "outputs": [
        {
          "output_type": "stream",
          "text": [
            "   index                                                  0  ...              1  2\n",
            "0    999  [[[74, 86, 74], [75, 87, 75], [75, 85, 72], [7...  ...  JFT_00001.jpg  1\n",
            "1    997  [[[49, 44, 46], [48, 45, 47], [50, 47, 49], [4...  ...  JFT_00002.jpg  1\n",
            "2    998  [[[123, 130, 145], [108, 116, 129], [109, 115,...  ...  JFT_00003.jpg  1\n",
            "3    996  [[[126, 126, 162], [129, 131, 165], [132, 141,...  ...  JFT_00004.jpg  1\n",
            "4    995  [[[110, 113, 147], [110, 115, 146], [111, 119,...  ...  JFT_00005.jpg  1\n",
            "\n",
            "[5 rows x 5 columns]\n",
            "      index  ...   2\n",
            "1474    978  ...  30\n",
            "1475    979  ...  30\n",
            "1476    980  ...  30\n",
            "1477    981  ...  30\n",
            "1478    982  ...  30\n",
            "\n",
            "[5 rows x 5 columns]\n"
          ],
          "name": "stdout"
        }
      ]
    },
    {
      "cell_type": "markdown",
      "metadata": {
        "id": "Pm6Td4dsK6SI",
        "colab_type": "text"
      },
      "source": [
        "##Splitting the dataset into training and validation \n",
        "\n",
        "Using the function train_test_split the dataframe jena_df is splitted into train and test data."
      ]
    },
    {
      "cell_type": "code",
      "metadata": {
        "id": "cJtSVJ5Ev4uN",
        "colab_type": "code",
        "colab": {}
      },
      "source": [
        "from sklearn.model_selection import train_test_split\n",
        "train_jena, test_jena, train_label, test_label = train_test_split(jena_df[0], jena_df[2], test_size=0.2)"
      ],
      "execution_count": 0,
      "outputs": []
    },
    {
      "cell_type": "markdown",
      "metadata": {
        "id": "gvX1YV_aLwWV",
        "colab_type": "text"
      },
      "source": [
        "Here we are using np.stack method to convert the training and testing image arrays to 4D arrays. The 4D arrays are stored in the directory and again loaded in to train_jena and test_jena for train and test data respectiveley."
      ]
    },
    {
      "cell_type": "code",
      "metadata": {
        "id": "TG6Nwp2zwZVg",
        "colab_type": "code",
        "colab": {}
      },
      "source": [
        "train=np.save('/content/drive/My Drive/train', np.stack(train_jena,axis=0))\n",
        "test=np.save('/content/drive/My Drive/test', np.stack(test_jena,axis=0))"
      ],
      "execution_count": 0,
      "outputs": []
    },
    {
      "cell_type": "code",
      "metadata": {
        "id": "ZujQKRWJw8HJ",
        "colab_type": "code",
        "colab": {}
      },
      "source": [
        "train_jena=np.load('/content/drive/My Drive/train.npy')\n",
        "test_jena = np.load('/content/drive/My Drive/test.npy')\n"
      ],
      "execution_count": 0,
      "outputs": []
    },
    {
      "cell_type": "markdown",
      "metadata": {
        "id": "GqQZImdZMnDK",
        "colab_type": "text"
      },
      "source": [
        "Train and test data are converted to float and normalized .\n",
        "\n"
      ]
    },
    {
      "cell_type": "code",
      "metadata": {
        "id": "jP1wJUqYxOcG",
        "colab_type": "code",
        "colab": {}
      },
      "source": [
        "train_jena=train_jena.astype('float32')/255\n",
        "test_jena=test_jena.astype('float32')/255"
      ],
      "execution_count": 0,
      "outputs": []
    },
    {
      "cell_type": "code",
      "metadata": {
        "id": "ArG5nYLMp9Ft",
        "colab_type": "code",
        "outputId": "3af8982e-7b03-484a-b1b4-ddcf4446aee8",
        "colab": {
          "base_uri": "https://localhost:8080/",
          "height": 34
        }
      },
      "source": [
        "np.stack(jena_df[0],axis=0).shape"
      ],
      "execution_count": 13,
      "outputs": [
        {
          "output_type": "execute_result",
          "data": {
            "text/plain": [
              "(1479, 32, 32, 3)"
            ]
          },
          "metadata": {
            "tags": []
          },
          "execution_count": 13
        }
      ]
    },
    {
      "cell_type": "code",
      "metadata": {
        "id": "rZi36-vVqfi4",
        "colab_type": "code",
        "outputId": "6d9b239a-de92-4336-b919-89094631a00c",
        "colab": {
          "base_uri": "https://localhost:8080/",
          "height": 34
        }
      },
      "source": [
        "test_jena.shape"
      ],
      "execution_count": 14,
      "outputs": [
        {
          "output_type": "execute_result",
          "data": {
            "text/plain": [
              "(296, 32, 32, 3)"
            ]
          },
          "metadata": {
            "tags": []
          },
          "execution_count": 14
        }
      ]
    },
    {
      "cell_type": "markdown",
      "metadata": {
        "id": "rZ9yYio-NUQt",
        "colab_type": "text"
      },
      "source": [
        "###One-hot-encoding for target labels."
      ]
    },
    {
      "cell_type": "code",
      "metadata": {
        "id": "R5S0n4vj0w4M",
        "colab_type": "code",
        "outputId": "9c9431f6-56c4-49bf-f25f-a79fccac4490",
        "colab": {
          "base_uri": "https://localhost:8080/",
          "height": 204
        }
      },
      "source": [
        "train_label=train_label.astype('category')\n",
        "dummies_train= pd.get_dummies(train_label)\n",
        "dummies_train.head()"
      ],
      "execution_count": 15,
      "outputs": [
        {
          "output_type": "execute_result",
          "data": {
            "text/html": [
              "<div>\n",
              "<style scoped>\n",
              "    .dataframe tbody tr th:only-of-type {\n",
              "        vertical-align: middle;\n",
              "    }\n",
              "\n",
              "    .dataframe tbody tr th {\n",
              "        vertical-align: top;\n",
              "    }\n",
              "\n",
              "    .dataframe thead th {\n",
              "        text-align: right;\n",
              "    }\n",
              "</style>\n",
              "<table border=\"1\" class=\"dataframe\">\n",
              "  <thead>\n",
              "    <tr style=\"text-align: right;\">\n",
              "      <th>2</th>\n",
              "      <th>1</th>\n",
              "      <th>2</th>\n",
              "      <th>3</th>\n",
              "      <th>4</th>\n",
              "      <th>5</th>\n",
              "      <th>6</th>\n",
              "      <th>7</th>\n",
              "      <th>8</th>\n",
              "      <th>9</th>\n",
              "      <th>10</th>\n",
              "      <th>11</th>\n",
              "      <th>12</th>\n",
              "      <th>13</th>\n",
              "      <th>14</th>\n",
              "      <th>15</th>\n",
              "      <th>16</th>\n",
              "      <th>17</th>\n",
              "      <th>18</th>\n",
              "      <th>19</th>\n",
              "      <th>20</th>\n",
              "      <th>21</th>\n",
              "      <th>22</th>\n",
              "      <th>23</th>\n",
              "      <th>24</th>\n",
              "      <th>25</th>\n",
              "      <th>26</th>\n",
              "      <th>27</th>\n",
              "      <th>28</th>\n",
              "      <th>29</th>\n",
              "      <th>30</th>\n",
              "    </tr>\n",
              "  </thead>\n",
              "  <tbody>\n",
              "    <tr>\n",
              "      <th>1431</th>\n",
              "      <td>0</td>\n",
              "      <td>0</td>\n",
              "      <td>0</td>\n",
              "      <td>0</td>\n",
              "      <td>0</td>\n",
              "      <td>0</td>\n",
              "      <td>0</td>\n",
              "      <td>0</td>\n",
              "      <td>0</td>\n",
              "      <td>0</td>\n",
              "      <td>0</td>\n",
              "      <td>0</td>\n",
              "      <td>0</td>\n",
              "      <td>0</td>\n",
              "      <td>0</td>\n",
              "      <td>0</td>\n",
              "      <td>0</td>\n",
              "      <td>0</td>\n",
              "      <td>0</td>\n",
              "      <td>0</td>\n",
              "      <td>0</td>\n",
              "      <td>0</td>\n",
              "      <td>0</td>\n",
              "      <td>0</td>\n",
              "      <td>0</td>\n",
              "      <td>0</td>\n",
              "      <td>0</td>\n",
              "      <td>0</td>\n",
              "      <td>1</td>\n",
              "      <td>0</td>\n",
              "    </tr>\n",
              "    <tr>\n",
              "      <th>402</th>\n",
              "      <td>0</td>\n",
              "      <td>0</td>\n",
              "      <td>0</td>\n",
              "      <td>0</td>\n",
              "      <td>0</td>\n",
              "      <td>0</td>\n",
              "      <td>0</td>\n",
              "      <td>0</td>\n",
              "      <td>1</td>\n",
              "      <td>0</td>\n",
              "      <td>0</td>\n",
              "      <td>0</td>\n",
              "      <td>0</td>\n",
              "      <td>0</td>\n",
              "      <td>0</td>\n",
              "      <td>0</td>\n",
              "      <td>0</td>\n",
              "      <td>0</td>\n",
              "      <td>0</td>\n",
              "      <td>0</td>\n",
              "      <td>0</td>\n",
              "      <td>0</td>\n",
              "      <td>0</td>\n",
              "      <td>0</td>\n",
              "      <td>0</td>\n",
              "      <td>0</td>\n",
              "      <td>0</td>\n",
              "      <td>0</td>\n",
              "      <td>0</td>\n",
              "      <td>0</td>\n",
              "    </tr>\n",
              "    <tr>\n",
              "      <th>285</th>\n",
              "      <td>0</td>\n",
              "      <td>0</td>\n",
              "      <td>0</td>\n",
              "      <td>0</td>\n",
              "      <td>0</td>\n",
              "      <td>1</td>\n",
              "      <td>0</td>\n",
              "      <td>0</td>\n",
              "      <td>0</td>\n",
              "      <td>0</td>\n",
              "      <td>0</td>\n",
              "      <td>0</td>\n",
              "      <td>0</td>\n",
              "      <td>0</td>\n",
              "      <td>0</td>\n",
              "      <td>0</td>\n",
              "      <td>0</td>\n",
              "      <td>0</td>\n",
              "      <td>0</td>\n",
              "      <td>0</td>\n",
              "      <td>0</td>\n",
              "      <td>0</td>\n",
              "      <td>0</td>\n",
              "      <td>0</td>\n",
              "      <td>0</td>\n",
              "      <td>0</td>\n",
              "      <td>0</td>\n",
              "      <td>0</td>\n",
              "      <td>0</td>\n",
              "      <td>0</td>\n",
              "    </tr>\n",
              "    <tr>\n",
              "      <th>194</th>\n",
              "      <td>0</td>\n",
              "      <td>0</td>\n",
              "      <td>0</td>\n",
              "      <td>0</td>\n",
              "      <td>1</td>\n",
              "      <td>0</td>\n",
              "      <td>0</td>\n",
              "      <td>0</td>\n",
              "      <td>0</td>\n",
              "      <td>0</td>\n",
              "      <td>0</td>\n",
              "      <td>0</td>\n",
              "      <td>0</td>\n",
              "      <td>0</td>\n",
              "      <td>0</td>\n",
              "      <td>0</td>\n",
              "      <td>0</td>\n",
              "      <td>0</td>\n",
              "      <td>0</td>\n",
              "      <td>0</td>\n",
              "      <td>0</td>\n",
              "      <td>0</td>\n",
              "      <td>0</td>\n",
              "      <td>0</td>\n",
              "      <td>0</td>\n",
              "      <td>0</td>\n",
              "      <td>0</td>\n",
              "      <td>0</td>\n",
              "      <td>0</td>\n",
              "      <td>0</td>\n",
              "    </tr>\n",
              "    <tr>\n",
              "      <th>1472</th>\n",
              "      <td>0</td>\n",
              "      <td>0</td>\n",
              "      <td>0</td>\n",
              "      <td>0</td>\n",
              "      <td>0</td>\n",
              "      <td>0</td>\n",
              "      <td>0</td>\n",
              "      <td>0</td>\n",
              "      <td>0</td>\n",
              "      <td>0</td>\n",
              "      <td>0</td>\n",
              "      <td>0</td>\n",
              "      <td>0</td>\n",
              "      <td>0</td>\n",
              "      <td>0</td>\n",
              "      <td>0</td>\n",
              "      <td>0</td>\n",
              "      <td>0</td>\n",
              "      <td>0</td>\n",
              "      <td>0</td>\n",
              "      <td>0</td>\n",
              "      <td>0</td>\n",
              "      <td>0</td>\n",
              "      <td>0</td>\n",
              "      <td>0</td>\n",
              "      <td>0</td>\n",
              "      <td>0</td>\n",
              "      <td>0</td>\n",
              "      <td>0</td>\n",
              "      <td>1</td>\n",
              "    </tr>\n",
              "  </tbody>\n",
              "</table>\n",
              "</div>"
            ],
            "text/plain": [
              "2     1   2   3   4   5   6   7   8   9   ...  22  23  24  25  26  27  28  29  30\n",
              "1431   0   0   0   0   0   0   0   0   0  ...   0   0   0   0   0   0   0   1   0\n",
              "402    0   0   0   0   0   0   0   0   1  ...   0   0   0   0   0   0   0   0   0\n",
              "285    0   0   0   0   0   1   0   0   0  ...   0   0   0   0   0   0   0   0   0\n",
              "194    0   0   0   0   1   0   0   0   0  ...   0   0   0   0   0   0   0   0   0\n",
              "1472   0   0   0   0   0   0   0   0   0  ...   0   0   0   0   0   0   0   0   1\n",
              "\n",
              "[5 rows x 30 columns]"
            ]
          },
          "metadata": {
            "tags": []
          },
          "execution_count": 15
        }
      ]
    },
    {
      "cell_type": "code",
      "metadata": {
        "id": "cw9foAMG1RDq",
        "colab_type": "code",
        "outputId": "daef0fba-ff57-46be-96ed-0fa10a3c337c",
        "colab": {
          "base_uri": "https://localhost:8080/",
          "height": 204
        }
      },
      "source": [
        "test_label=test_label.astype('category')\n",
        "dummies_test= pd.get_dummies(test_label)\n",
        "dummies_test.head()"
      ],
      "execution_count": 16,
      "outputs": [
        {
          "output_type": "execute_result",
          "data": {
            "text/html": [
              "<div>\n",
              "<style scoped>\n",
              "    .dataframe tbody tr th:only-of-type {\n",
              "        vertical-align: middle;\n",
              "    }\n",
              "\n",
              "    .dataframe tbody tr th {\n",
              "        vertical-align: top;\n",
              "    }\n",
              "\n",
              "    .dataframe thead th {\n",
              "        text-align: right;\n",
              "    }\n",
              "</style>\n",
              "<table border=\"1\" class=\"dataframe\">\n",
              "  <thead>\n",
              "    <tr style=\"text-align: right;\">\n",
              "      <th>2</th>\n",
              "      <th>1</th>\n",
              "      <th>2</th>\n",
              "      <th>3</th>\n",
              "      <th>4</th>\n",
              "      <th>5</th>\n",
              "      <th>6</th>\n",
              "      <th>7</th>\n",
              "      <th>8</th>\n",
              "      <th>9</th>\n",
              "      <th>10</th>\n",
              "      <th>11</th>\n",
              "      <th>12</th>\n",
              "      <th>13</th>\n",
              "      <th>14</th>\n",
              "      <th>15</th>\n",
              "      <th>16</th>\n",
              "      <th>17</th>\n",
              "      <th>18</th>\n",
              "      <th>19</th>\n",
              "      <th>20</th>\n",
              "      <th>21</th>\n",
              "      <th>22</th>\n",
              "      <th>23</th>\n",
              "      <th>24</th>\n",
              "      <th>25</th>\n",
              "      <th>26</th>\n",
              "      <th>27</th>\n",
              "      <th>28</th>\n",
              "      <th>29</th>\n",
              "      <th>30</th>\n",
              "    </tr>\n",
              "  </thead>\n",
              "  <tbody>\n",
              "    <tr>\n",
              "      <th>737</th>\n",
              "      <td>0</td>\n",
              "      <td>0</td>\n",
              "      <td>0</td>\n",
              "      <td>0</td>\n",
              "      <td>0</td>\n",
              "      <td>0</td>\n",
              "      <td>0</td>\n",
              "      <td>0</td>\n",
              "      <td>0</td>\n",
              "      <td>0</td>\n",
              "      <td>0</td>\n",
              "      <td>0</td>\n",
              "      <td>0</td>\n",
              "      <td>0</td>\n",
              "      <td>0</td>\n",
              "      <td>1</td>\n",
              "      <td>0</td>\n",
              "      <td>0</td>\n",
              "      <td>0</td>\n",
              "      <td>0</td>\n",
              "      <td>0</td>\n",
              "      <td>0</td>\n",
              "      <td>0</td>\n",
              "      <td>0</td>\n",
              "      <td>0</td>\n",
              "      <td>0</td>\n",
              "      <td>0</td>\n",
              "      <td>0</td>\n",
              "      <td>0</td>\n",
              "      <td>0</td>\n",
              "    </tr>\n",
              "    <tr>\n",
              "      <th>1363</th>\n",
              "      <td>0</td>\n",
              "      <td>0</td>\n",
              "      <td>0</td>\n",
              "      <td>0</td>\n",
              "      <td>0</td>\n",
              "      <td>0</td>\n",
              "      <td>0</td>\n",
              "      <td>0</td>\n",
              "      <td>0</td>\n",
              "      <td>0</td>\n",
              "      <td>0</td>\n",
              "      <td>0</td>\n",
              "      <td>0</td>\n",
              "      <td>0</td>\n",
              "      <td>0</td>\n",
              "      <td>0</td>\n",
              "      <td>0</td>\n",
              "      <td>0</td>\n",
              "      <td>0</td>\n",
              "      <td>0</td>\n",
              "      <td>0</td>\n",
              "      <td>0</td>\n",
              "      <td>0</td>\n",
              "      <td>0</td>\n",
              "      <td>0</td>\n",
              "      <td>0</td>\n",
              "      <td>0</td>\n",
              "      <td>1</td>\n",
              "      <td>0</td>\n",
              "      <td>0</td>\n",
              "    </tr>\n",
              "    <tr>\n",
              "      <th>1204</th>\n",
              "      <td>0</td>\n",
              "      <td>0</td>\n",
              "      <td>0</td>\n",
              "      <td>0</td>\n",
              "      <td>0</td>\n",
              "      <td>0</td>\n",
              "      <td>0</td>\n",
              "      <td>0</td>\n",
              "      <td>0</td>\n",
              "      <td>0</td>\n",
              "      <td>0</td>\n",
              "      <td>0</td>\n",
              "      <td>0</td>\n",
              "      <td>0</td>\n",
              "      <td>0</td>\n",
              "      <td>0</td>\n",
              "      <td>0</td>\n",
              "      <td>0</td>\n",
              "      <td>0</td>\n",
              "      <td>0</td>\n",
              "      <td>0</td>\n",
              "      <td>0</td>\n",
              "      <td>0</td>\n",
              "      <td>0</td>\n",
              "      <td>1</td>\n",
              "      <td>0</td>\n",
              "      <td>0</td>\n",
              "      <td>0</td>\n",
              "      <td>0</td>\n",
              "      <td>0</td>\n",
              "    </tr>\n",
              "    <tr>\n",
              "      <th>1206</th>\n",
              "      <td>0</td>\n",
              "      <td>0</td>\n",
              "      <td>0</td>\n",
              "      <td>0</td>\n",
              "      <td>0</td>\n",
              "      <td>0</td>\n",
              "      <td>0</td>\n",
              "      <td>0</td>\n",
              "      <td>0</td>\n",
              "      <td>0</td>\n",
              "      <td>0</td>\n",
              "      <td>0</td>\n",
              "      <td>0</td>\n",
              "      <td>0</td>\n",
              "      <td>0</td>\n",
              "      <td>0</td>\n",
              "      <td>0</td>\n",
              "      <td>0</td>\n",
              "      <td>0</td>\n",
              "      <td>0</td>\n",
              "      <td>0</td>\n",
              "      <td>0</td>\n",
              "      <td>0</td>\n",
              "      <td>0</td>\n",
              "      <td>1</td>\n",
              "      <td>0</td>\n",
              "      <td>0</td>\n",
              "      <td>0</td>\n",
              "      <td>0</td>\n",
              "      <td>0</td>\n",
              "    </tr>\n",
              "    <tr>\n",
              "      <th>137</th>\n",
              "      <td>0</td>\n",
              "      <td>0</td>\n",
              "      <td>0</td>\n",
              "      <td>1</td>\n",
              "      <td>0</td>\n",
              "      <td>0</td>\n",
              "      <td>0</td>\n",
              "      <td>0</td>\n",
              "      <td>0</td>\n",
              "      <td>0</td>\n",
              "      <td>0</td>\n",
              "      <td>0</td>\n",
              "      <td>0</td>\n",
              "      <td>0</td>\n",
              "      <td>0</td>\n",
              "      <td>0</td>\n",
              "      <td>0</td>\n",
              "      <td>0</td>\n",
              "      <td>0</td>\n",
              "      <td>0</td>\n",
              "      <td>0</td>\n",
              "      <td>0</td>\n",
              "      <td>0</td>\n",
              "      <td>0</td>\n",
              "      <td>0</td>\n",
              "      <td>0</td>\n",
              "      <td>0</td>\n",
              "      <td>0</td>\n",
              "      <td>0</td>\n",
              "      <td>0</td>\n",
              "    </tr>\n",
              "  </tbody>\n",
              "</table>\n",
              "</div>"
            ],
            "text/plain": [
              "2     1   2   3   4   5   6   7   8   9   ...  22  23  24  25  26  27  28  29  30\n",
              "737    0   0   0   0   0   0   0   0   0  ...   0   0   0   0   0   0   0   0   0\n",
              "1363   0   0   0   0   0   0   0   0   0  ...   0   0   0   0   0   0   1   0   0\n",
              "1204   0   0   0   0   0   0   0   0   0  ...   0   0   0   1   0   0   0   0   0\n",
              "1206   0   0   0   0   0   0   0   0   0  ...   0   0   0   1   0   0   0   0   0\n",
              "137    0   0   0   1   0   0   0   0   0  ...   0   0   0   0   0   0   0   0   0\n",
              "\n",
              "[5 rows x 30 columns]"
            ]
          },
          "metadata": {
            "tags": []
          },
          "execution_count": 16
        }
      ]
    },
    {
      "cell_type": "markdown",
      "metadata": {
        "id": "Z-ZuyvwdNv-4",
        "colab_type": "text"
      },
      "source": [
        "##Step 4: Build Model\n",
        "\n",
        "Built model using Batch Normalization:"
      ]
    },
    {
      "cell_type": "code",
      "metadata": {
        "id": "1gtPo8MuuFih",
        "colab_type": "code",
        "colab": {
          "base_uri": "https://localhost:8080/",
          "height": 258
        },
        "outputId": "0af92603-2c58-4bbf-9708-296563505bfa"
      },
      "source": [
        "    model = Sequential()\n",
        "    model.add(Conv2D(32, (3, 3), padding='same', input_shape=train_jena.shape[1:]))\n",
        "    model.add(Activation('relu'))\n",
        "    model.add(Conv2D(32,(3, 3)))\n",
        "    model.add(Activation('relu'))\n",
        "    model.add(MaxPooling2D(pool_size=(2, 2)))\n",
        "    model.add(Dropout(0.25))\n",
        " \n",
        "    model.add(Conv2D(32, (3, 3), padding='same'))\n",
        "    model.add(Activation('relu'))\n",
        "    model.add(Conv2D(32, (3,3)))\n",
        "    model.add(Activation('relu'))\n",
        "    model.add(MaxPooling2D(pool_size=(2, 2)))\n",
        "    model.add(Dropout(0.25))\n",
        " \n",
        "    model.add(Flatten())\n",
        "    model.add(Dense(800))\n",
        "    model.add(BatchNormalization())\n",
        "    model.add(Activation('relu'))\n",
        "    model.add(Dropout(0.5))\n",
        "    model.add(Dense(30))\n",
        "    model.add(Activation('softmax'))"
      ],
      "execution_count": 17,
      "outputs": [
        {
          "output_type": "stream",
          "text": [
            "WARNING:tensorflow:From /usr/local/lib/python3.6/dist-packages/keras/backend/tensorflow_backend.py:66: The name tf.get_default_graph is deprecated. Please use tf.compat.v1.get_default_graph instead.\n",
            "\n",
            "WARNING:tensorflow:From /usr/local/lib/python3.6/dist-packages/keras/backend/tensorflow_backend.py:541: The name tf.placeholder is deprecated. Please use tf.compat.v1.placeholder instead.\n",
            "\n",
            "WARNING:tensorflow:From /usr/local/lib/python3.6/dist-packages/keras/backend/tensorflow_backend.py:4432: The name tf.random_uniform is deprecated. Please use tf.random.uniform instead.\n",
            "\n",
            "WARNING:tensorflow:From /usr/local/lib/python3.6/dist-packages/keras/backend/tensorflow_backend.py:4267: The name tf.nn.max_pool is deprecated. Please use tf.nn.max_pool2d instead.\n",
            "\n",
            "WARNING:tensorflow:From /usr/local/lib/python3.6/dist-packages/keras/backend/tensorflow_backend.py:148: The name tf.placeholder_with_default is deprecated. Please use tf.compat.v1.placeholder_with_default instead.\n",
            "\n",
            "WARNING:tensorflow:From /usr/local/lib/python3.6/dist-packages/keras/backend/tensorflow_backend.py:3733: calling dropout (from tensorflow.python.ops.nn_ops) with keep_prob is deprecated and will be removed in a future version.\n",
            "Instructions for updating:\n",
            "Please use `rate` instead of `keep_prob`. Rate should be set to `rate = 1 - keep_prob`.\n"
          ],
          "name": "stdout"
        }
      ]
    },
    {
      "cell_type": "code",
      "metadata": {
        "id": "aDG2Smxmznl-",
        "colab_type": "code",
        "outputId": "57a71cd4-01ba-4bfe-dd3c-884591535067",
        "colab": {
          "base_uri": "https://localhost:8080/",
          "height": 799
        }
      },
      "source": [
        "model.summary()"
      ],
      "execution_count": 18,
      "outputs": [
        {
          "output_type": "stream",
          "text": [
            "Model: \"sequential_1\"\n",
            "_________________________________________________________________\n",
            "Layer (type)                 Output Shape              Param #   \n",
            "=================================================================\n",
            "conv2d_1 (Conv2D)            (None, 32, 32, 32)        896       \n",
            "_________________________________________________________________\n",
            "activation_1 (Activation)    (None, 32, 32, 32)        0         \n",
            "_________________________________________________________________\n",
            "conv2d_2 (Conv2D)            (None, 30, 30, 32)        9248      \n",
            "_________________________________________________________________\n",
            "activation_2 (Activation)    (None, 30, 30, 32)        0         \n",
            "_________________________________________________________________\n",
            "max_pooling2d_1 (MaxPooling2 (None, 15, 15, 32)        0         \n",
            "_________________________________________________________________\n",
            "dropout_1 (Dropout)          (None, 15, 15, 32)        0         \n",
            "_________________________________________________________________\n",
            "conv2d_3 (Conv2D)            (None, 15, 15, 32)        9248      \n",
            "_________________________________________________________________\n",
            "activation_3 (Activation)    (None, 15, 15, 32)        0         \n",
            "_________________________________________________________________\n",
            "conv2d_4 (Conv2D)            (None, 13, 13, 32)        9248      \n",
            "_________________________________________________________________\n",
            "activation_4 (Activation)    (None, 13, 13, 32)        0         \n",
            "_________________________________________________________________\n",
            "max_pooling2d_2 (MaxPooling2 (None, 6, 6, 32)          0         \n",
            "_________________________________________________________________\n",
            "dropout_2 (Dropout)          (None, 6, 6, 32)          0         \n",
            "_________________________________________________________________\n",
            "flatten_1 (Flatten)          (None, 1152)              0         \n",
            "_________________________________________________________________\n",
            "dense_1 (Dense)              (None, 800)               922400    \n",
            "_________________________________________________________________\n",
            "batch_normalization_1 (Batch (None, 800)               3200      \n",
            "_________________________________________________________________\n",
            "activation_5 (Activation)    (None, 800)               0         \n",
            "_________________________________________________________________\n",
            "dropout_3 (Dropout)          (None, 800)               0         \n",
            "_________________________________________________________________\n",
            "dense_2 (Dense)              (None, 30)                24030     \n",
            "_________________________________________________________________\n",
            "activation_6 (Activation)    (None, 30)                0         \n",
            "=================================================================\n",
            "Total params: 978,270\n",
            "Trainable params: 976,670\n",
            "Non-trainable params: 1,600\n",
            "_________________________________________________________________\n"
          ],
          "name": "stdout"
        }
      ]
    },
    {
      "cell_type": "code",
      "metadata": {
        "id": "NHWlYaKhzpAS",
        "colab_type": "code",
        "colab": {
          "base_uri": "https://localhost:8080/",
          "height": 105
        },
        "outputId": "5c99d6da-5eef-45b9-bdad-f64d68fd95b7"
      },
      "source": [
        "model.compile(optimizer=tf.train.AdamOptimizer(), \n",
        "              loss=\"categorical_crossentropy\",\n",
        "              metrics=['accuracy'])\n"
      ],
      "execution_count": 19,
      "outputs": [
        {
          "output_type": "stream",
          "text": [
            "WARNING:tensorflow:From /usr/local/lib/python3.6/dist-packages/keras/optimizers.py:793: The name tf.train.Optimizer is deprecated. Please use tf.compat.v1.train.Optimizer instead.\n",
            "\n",
            "WARNING:tensorflow:From /usr/local/lib/python3.6/dist-packages/keras/backend/tensorflow_backend.py:3576: The name tf.log is deprecated. Please use tf.math.log instead.\n",
            "\n"
          ],
          "name": "stdout"
        }
      ]
    },
    {
      "cell_type": "markdown",
      "metadata": {
        "id": "EJJYk6ZKOkuW",
        "colab_type": "text"
      },
      "source": [
        "##Fit Model"
      ]
    },
    {
      "cell_type": "code",
      "metadata": {
        "id": "xOEYp-h2z2vH",
        "colab_type": "code",
        "outputId": "a079b7c6-b516-4406-f24e-dc4261a5cf26",
        "colab": {
          "base_uri": "https://localhost:8080/",
          "height": 853
        }
      },
      "source": [
        "history = model.fit(train_jena, dummies_train, batch_size=128, validation_data = (test_jena, dummies_test), epochs=15)"
      ],
      "execution_count": 20,
      "outputs": [
        {
          "output_type": "stream",
          "text": [
            "WARNING:tensorflow:From /usr/local/lib/python3.6/dist-packages/tensorflow_core/python/ops/math_grad.py:1424: where (from tensorflow.python.ops.array_ops) is deprecated and will be removed in a future version.\n",
            "Instructions for updating:\n",
            "Use tf.where in 2.0, which has the same broadcast rule as np.where\n",
            "WARNING:tensorflow:From /usr/local/lib/python3.6/dist-packages/keras/backend/tensorflow_backend.py:1033: The name tf.assign_add is deprecated. Please use tf.compat.v1.assign_add instead.\n",
            "\n",
            "WARNING:tensorflow:From /usr/local/lib/python3.6/dist-packages/keras/backend/tensorflow_backend.py:3005: The name tf.Session is deprecated. Please use tf.compat.v1.Session instead.\n",
            "\n",
            "Train on 1183 samples, validate on 296 samples\n",
            "Epoch 1/15\n",
            "WARNING:tensorflow:From /usr/local/lib/python3.6/dist-packages/keras/backend/tensorflow_backend.py:190: The name tf.get_default_session is deprecated. Please use tf.compat.v1.get_default_session instead.\n",
            "\n",
            "WARNING:tensorflow:From /usr/local/lib/python3.6/dist-packages/keras/backend/tensorflow_backend.py:197: The name tf.ConfigProto is deprecated. Please use tf.compat.v1.ConfigProto instead.\n",
            "\n",
            "WARNING:tensorflow:From /usr/local/lib/python3.6/dist-packages/keras/backend/tensorflow_backend.py:207: The name tf.global_variables is deprecated. Please use tf.compat.v1.global_variables instead.\n",
            "\n",
            "WARNING:tensorflow:From /usr/local/lib/python3.6/dist-packages/keras/backend/tensorflow_backend.py:216: The name tf.is_variable_initialized is deprecated. Please use tf.compat.v1.is_variable_initialized instead.\n",
            "\n",
            "WARNING:tensorflow:From /usr/local/lib/python3.6/dist-packages/keras/backend/tensorflow_backend.py:223: The name tf.variables_initializer is deprecated. Please use tf.compat.v1.variables_initializer instead.\n",
            "\n",
            "1183/1183 [==============================] - 4s 4ms/step - loss: 3.4027 - acc: 0.1014 - val_loss: 2.8191 - val_acc: 0.2264\n",
            "Epoch 2/15\n",
            "1183/1183 [==============================] - 4s 3ms/step - loss: 2.4626 - acc: 0.2646 - val_loss: 2.2541 - val_acc: 0.3345\n",
            "Epoch 3/15\n",
            "1183/1183 [==============================] - 4s 3ms/step - loss: 2.0251 - acc: 0.3686 - val_loss: 1.9110 - val_acc: 0.4122\n",
            "Epoch 4/15\n",
            "1183/1183 [==============================] - 4s 3ms/step - loss: 1.6199 - acc: 0.4962 - val_loss: 1.6188 - val_acc: 0.5439\n",
            "Epoch 5/15\n",
            "1183/1183 [==============================] - 4s 3ms/step - loss: 1.3436 - acc: 0.5841 - val_loss: 1.3533 - val_acc: 0.6284\n",
            "Epoch 6/15\n",
            "1183/1183 [==============================] - 4s 3ms/step - loss: 1.1182 - acc: 0.6441 - val_loss: 1.3121 - val_acc: 0.6216\n",
            "Epoch 7/15\n",
            "1183/1183 [==============================] - 4s 3ms/step - loss: 0.9996 - acc: 0.6720 - val_loss: 1.1943 - val_acc: 0.7027\n",
            "Epoch 8/15\n",
            "1183/1183 [==============================] - 4s 3ms/step - loss: 0.8364 - acc: 0.7346 - val_loss: 0.9842 - val_acc: 0.7230\n",
            "Epoch 9/15\n",
            "1183/1183 [==============================] - 4s 3ms/step - loss: 0.7145 - acc: 0.7743 - val_loss: 0.9135 - val_acc: 0.7399\n",
            "Epoch 10/15\n",
            "1183/1183 [==============================] - 4s 3ms/step - loss: 0.6938 - acc: 0.7819 - val_loss: 0.8727 - val_acc: 0.7804\n",
            "Epoch 11/15\n",
            "1183/1183 [==============================] - 4s 3ms/step - loss: 0.5559 - acc: 0.8292 - val_loss: 0.7076 - val_acc: 0.8142\n",
            "Epoch 12/15\n",
            "1183/1183 [==============================] - 4s 3ms/step - loss: 0.4692 - acc: 0.8656 - val_loss: 0.6221 - val_acc: 0.8547\n",
            "Epoch 13/15\n",
            "1183/1183 [==============================] - 4s 3ms/step - loss: 0.4134 - acc: 0.8842 - val_loss: 0.7192 - val_acc: 0.8041\n",
            "Epoch 14/15\n",
            "1183/1183 [==============================] - 4s 3ms/step - loss: 0.3777 - acc: 0.8859 - val_loss: 0.6478 - val_acc: 0.8243\n",
            "Epoch 15/15\n",
            "1183/1183 [==============================] - 4s 3ms/step - loss: 0.3137 - acc: 0.9155 - val_loss: 0.5082 - val_acc: 0.8649\n"
          ],
          "name": "stdout"
        }
      ]
    },
    {
      "cell_type": "markdown",
      "metadata": {
        "id": "bT8meymUom-X",
        "colab_type": "text"
      },
      "source": [
        "From the above output we can see that at epoch 15 validation accuracy is 86.4%."
      ]
    },
    {
      "cell_type": "markdown",
      "metadata": {
        "id": "UULjyqoOPU3h",
        "colab_type": "text"
      },
      "source": [
        "##Step5: Plot Results"
      ]
    },
    {
      "cell_type": "markdown",
      "metadata": {
        "id": "BnJAcwjvP0AQ",
        "colab_type": "text"
      },
      "source": [
        "###Plot for accuracy"
      ]
    },
    {
      "cell_type": "code",
      "metadata": {
        "id": "R7sOhv2f2eG_",
        "colab_type": "code",
        "outputId": "b916e69e-fa51-4b95-dfa1-506fd551117e",
        "colab": {
          "base_uri": "https://localhost:8080/",
          "height": 295
        }
      },
      "source": [
        "plt.plot(history.history[\"acc\"])\n",
        "plt.plot(history.history[\"val_acc\"])\n",
        "plt.title('model accuracy')\n",
        "plt.ylabel('accuracy')\n",
        "plt.xlabel('epoch')\n",
        "plt.legend(['train', 'test'], loc='upper left')\n",
        "plt.show()"
      ],
      "execution_count": 21,
      "outputs": [
        {
          "output_type": "display_data",
          "data": {
            "image/png": "[encoded data removed]",
            "text/plain": [
              "<Figure size 432x288 with 1 Axes>"
            ]
          },
          "metadata": {
            "tags": []
          }
        }
      ]
    },
    {
      "cell_type": "markdown",
      "metadata": {
        "id": "D08MzKlwv9Nt",
        "colab_type": "text"
      },
      "source": [
        "###Plot for loss"
      ]
    },
    {
      "cell_type": "code",
      "metadata": {
        "id": "-UevyC9gv1wJ",
        "colab_type": "code",
        "outputId": "0f0f35dc-0bdf-40eb-e3c4-a40ace627e14",
        "colab": {
          "base_uri": "https://localhost:8080/",
          "height": 295
        }
      },
      "source": [
        "plt.plot(history.history[\"loss\"])\n",
        "plt.plot(history.history[\"val_loss\"])\n",
        "plt.title('model loss')\n",
        "plt.ylabel('loss')\n",
        "plt.xlabel('epoch')\n",
        "plt.legend(['train', 'test'], loc='upper left')\n",
        "plt.show()"
      ],
      "execution_count": 22,
      "outputs": [
        {
          "output_type": "display_data",
          "data": {
            "image/png": "[encoded data removed]",
            "text/plain": [
              "<Figure size 432x288 with 1 Axes>"
            ]
          },
          "metadata": {
            "tags": []
          }
        }
      ]
    },
    {
      "cell_type": "markdown",
      "metadata": {
        "id": "tL9V5LATQdEK",
        "colab_type": "text"
      },
      "source": [
        "###Maximum  training and validation accuracy."
      ]
    },
    {
      "cell_type": "code",
      "metadata": {
        "id": "zI5ZhoQj3aQN",
        "colab_type": "code",
        "outputId": "e2fbd980-d4e8-4517-9987-5a5e898949f0",
        "colab": {
          "base_uri": "https://localhost:8080/",
          "height": 51
        }
      },
      "source": [
        "print(max(history.history[\"acc\"]))\n",
        "print(max(history.history[\"val_acc\"]))"
      ],
      "execution_count": 23,
      "outputs": [
        {
          "output_type": "stream",
          "text": [
            "0.9154691455833809\n",
            "0.8648648664758012\n"
          ],
          "name": "stdout"
        }
      ]
    },
    {
      "cell_type": "markdown",
      "metadata": {
        "colab_type": "text",
        "id": "dWqt_mTNvW0V"
      },
      "source": [
        "### Baseline Accuracy of the Model"
      ]
    },
    {
      "cell_type": "code",
      "metadata": {
        "colab_type": "code",
        "outputId": "bcbf2a0a-ab7e-47a2-af17-76c01fd0eea4",
        "id": "VlNjOuovvWdn",
        "colab": {
          "base_uri": "https://localhost:8080/",
          "height": 561
        }
      },
      "source": [
        "print(jena_df[2].value_counts())# Displays count of each class\n",
        "a=max(jena_df[2].value_counts())# take the class with maximum count\n",
        "b=sum(jena_df[2].value_counts())# total no of instances\n",
        "print(\"Baseline_Accuracy=\",a/b*100)"
      ],
      "execution_count": 24,
      "outputs": [
        {
          "output_type": "stream",
          "text": [
            "6     70\n",
            "28    68\n",
            "23    67\n",
            "13    66\n",
            "4     66\n",
            "2     65\n",
            "7     64\n",
            "18    63\n",
            "29    63\n",
            "20    61\n",
            "27    61\n",
            "24    60\n",
            "10    60\n",
            "25    56\n",
            "19    55\n",
            "14    54\n",
            "5     54\n",
            "22    49\n",
            "12    48\n",
            "9     46\n",
            "17    45\n",
            "3     41\n",
            "21    38\n",
            "11    36\n",
            "26    35\n",
            "8     28\n",
            "16    24\n",
            "15    13\n",
            "30    12\n",
            "1     11\n",
            "Name: 2, dtype: int64\n",
            "Baseline_Accuracy= 4.732927653820148\n"
          ],
          "name": "stdout"
        }
      ]
    },
    {
      "cell_type": "markdown",
      "metadata": {
        "id": "cDnkAVn4ApHV",
        "colab_type": "text"
      },
      "source": [
        "For this given data set the baseline accuracy is 4.7%"
      ]
    },
    {
      "cell_type": "markdown",
      "metadata": {
        "id": "M81kvBti64g7",
        "colab_type": "text"
      },
      "source": [
        "### Built Model with Data Augmentation using ImageDataGenerator:"
      ]
    },
    {
      "cell_type": "code",
      "metadata": {
        "id": "-X4NZFsr6484",
        "colab_type": "code",
        "outputId": "f29f1e0b-0fc8-41e9-a310-89c112354a6e",
        "colab": {
          "base_uri": "https://localhost:8080/",
          "height": 357
        }
      },
      "source": [
        "datagen_jena = ImageDataGenerator(\n",
        "    featurewise_center=True,\n",
        "    featurewise_std_normalization=True,\n",
        "    rotation_range=20,\n",
        "    width_shift_range=0.2,\n",
        "    height_shift_range=0.2,\n",
        "    horizontal_flip=True)\n",
        "\n",
        "datagen_jena.fit(train_jena)\n",
        "\n",
        "#Fit Generator\n",
        "history_jena=model.fit_generator(datagen_jena.flow(train_jena, dummies_train, batch_size=32),steps_per_epoch=train_jena.shape[0],\n",
        "                validation_data= (test_jena,dummies_test),epochs=10)"
      ],
      "execution_count": 25,
      "outputs": [
        {
          "output_type": "stream",
          "text": [
            "Epoch 1/10\n",
            "1183/1183 [==============================] - 145s 123ms/step - loss: 0.7809 - acc: 0.7357 - val_loss: 6.8642 - val_acc: 0.0743\n",
            "Epoch 2/10\n",
            "1183/1183 [==============================] - 144s 121ms/step - loss: 0.3538 - acc: 0.8754 - val_loss: 7.9381 - val_acc: 0.0676\n",
            "Epoch 3/10\n",
            "1183/1183 [==============================] - 149s 126ms/step - loss: 0.2467 - acc: 0.9133 - val_loss: 8.2170 - val_acc: 0.1047\n",
            "Epoch 4/10\n",
            "1183/1183 [==============================] - 151s 128ms/step - loss: 0.1988 - acc: 0.9286 - val_loss: 8.1201 - val_acc: 0.1453\n",
            "Epoch 5/10\n",
            "1183/1183 [==============================] - 150s 127ms/step - loss: 0.1625 - acc: 0.9420 - val_loss: 8.6744 - val_acc: 0.1081\n",
            "Epoch 6/10\n",
            "1183/1183 [==============================] - 150s 127ms/step - loss: 0.1403 - acc: 0.9504 - val_loss: 9.5525 - val_acc: 0.0777\n",
            "Epoch 7/10\n",
            "1183/1183 [==============================] - 147s 125ms/step - loss: 0.1200 - acc: 0.9583 - val_loss: 8.3029 - val_acc: 0.1149\n",
            "Epoch 8/10\n",
            "1183/1183 [==============================] - 149s 126ms/step - loss: 0.1070 - acc: 0.9628 - val_loss: 9.9765 - val_acc: 0.0709\n",
            "Epoch 9/10\n",
            "1183/1183 [==============================] - 143s 121ms/step - loss: 0.0989 - acc: 0.9650 - val_loss: 10.0424 - val_acc: 0.0676\n",
            "Epoch 10/10\n",
            "1183/1183 [==============================] - 143s 121ms/step - loss: 0.0956 - acc: 0.9679 - val_loss: 10.4044 - val_acc: 0.0642\n"
          ],
          "name": "stdout"
        }
      ]
    },
    {
      "cell_type": "markdown",
      "metadata": {
        "id": "dyrdehWK6-YW",
        "colab_type": "text"
      },
      "source": [
        "From the output we can see that at the epoch 4 validation accuracy is 14.5%"
      ]
    },
    {
      "cell_type": "code",
      "metadata": {
        "id": "3isup_Y36-m9",
        "colab_type": "code",
        "outputId": "9622736f-edc0-4263-f471-34ba68e0c100",
        "colab": {
          "base_uri": "https://localhost:8080/",
          "height": 51
        }
      },
      "source": [
        "print(max(history_jena.history[\"acc\"]))\n",
        "print(max(history_jena.history[\"val_acc\"]))"
      ],
      "execution_count": 26,
      "outputs": [
        {
          "output_type": "stream",
          "text": [
            "0.9679568524105244\n",
            "0.14527027027027026\n"
          ],
          "name": "stdout"
        }
      ]
    },
    {
      "cell_type": "markdown",
      "metadata": {
        "id": "YX_bVXFG6_bi",
        "colab_type": "text"
      },
      "source": [
        "###Data Augmentation: Plot for Accuracy"
      ]
    },
    {
      "cell_type": "code",
      "metadata": {
        "id": "Uc8FBbG96_qY",
        "colab_type": "code",
        "outputId": "ac8e20a3-abc6-4879-a0c8-bdf48b35ccff",
        "colab": {
          "base_uri": "https://localhost:8080/",
          "height": 295
        }
      },
      "source": [
        "plt.plot(history_jena.history[\"acc\"])\n",
        "plt.plot(history_jena.history[\"val_acc\"])\n",
        "plt.title('model accuracy')\n",
        "plt.ylabel('accuracy')\n",
        "plt.xlabel('epoch')\n",
        "plt.legend(['train', 'test'], loc='upper left')\n",
        "plt.show()"
      ],
      "execution_count": 27,
      "outputs": [
        {
          "output_type": "display_data",
          "data": {
            "image/png": "[encoded data removed]",
            "text/plain": [
              "<Figure size 432x288 with 1 Axes>"
            ]
          },
          "metadata": {
            "tags": []
          }
        }
      ]
    },
    {
      "cell_type": "markdown",
      "metadata": {
        "id": "oo5tF3zwBe2d",
        "colab_type": "text"
      },
      "source": [
        "# Model 2: Fine Tuning"
      ]
    },
    {
      "cell_type": "markdown",
      "metadata": {
        "id": "hkPUs-6dST2B",
        "colab_type": "text"
      },
      "source": [
        "###FineTuning Approach\n",
        "\n",
        "* The task of fine-tuning a network is to tweak the parameters(weights) of an already trained network so it adapts to the new task at hand.\n",
        "* In general,  initial layers always learn very general features and as we go higher up the network the layers tend to learn patterns more specific to the task.\n",
        "* So for fine-tuning we freeze the initial layers and retrain the last layers.\n",
        "* So, Here we are Fine tuning using VGG model\n",
        "* We are freezing all layers except last 4 layers"
      ]
    },
    {
      "cell_type": "markdown",
      "metadata": {
        "id": "5SCr54n7ScRb",
        "colab_type": "text"
      },
      "source": [
        "###Importing the vgg16 Model"
      ]
    },
    {
      "cell_type": "code",
      "metadata": {
        "id": "f4aE2jazPF7l",
        "colab_type": "code",
        "colab": {}
      },
      "source": [
        "from keras.applications import VGG16\n",
        "#Load the VGG model\n",
        "vgg_conv = VGG16(weights='imagenet', include_top=False, input_shape=(32, 32, 3))\n"
      ],
      "execution_count": 0,
      "outputs": []
    },
    {
      "cell_type": "markdown",
      "metadata": {
        "id": "bnSqeETPSnPg",
        "colab_type": "text"
      },
      "source": [
        "###Setting just last 4 layers as trainable and freeze other layers."
      ]
    },
    {
      "cell_type": "code",
      "metadata": {
        "id": "5O5NLQJZPeeP",
        "colab_type": "code",
        "outputId": "259f887d-67c8-494f-aeab-cb9ff9b8dcad",
        "colab": {
          "base_uri": "https://localhost:8080/",
          "height": 340
        }
      },
      "source": [
        "# Freeze the layers except the last 4 layers\n",
        "for layer in vgg_conv.layers[:-4]:\n",
        "    layer.trainable = False\n",
        " \n",
        "# Check the trainable status of the individual layers\n",
        "for layer in vgg_conv.layers:\n",
        "    print(layer, layer.trainable)"
      ],
      "execution_count": 29,
      "outputs": [
        {
          "output_type": "stream",
          "text": [
            "<keras.engine.input_layer.InputLayer object at 0x7f6605c5d198> False\n",
            "<keras.layers.convolutional.Conv2D object at 0x7f6605c5d9e8> False\n",
            "<keras.layers.convolutional.Conv2D object at 0x7f65fea725f8> False\n",
            "<keras.layers.pooling.MaxPooling2D object at 0x7f65ffc4ce10> False\n",
            "<keras.layers.convolutional.Conv2D object at 0x7f65ffc57e80> False\n",
            "<keras.layers.convolutional.Conv2D object at 0x7f65ffc626d8> False\n",
            "<keras.layers.pooling.MaxPooling2D object at 0x7f65ffc66438> False\n",
            "<keras.layers.convolutional.Conv2D object at 0x7f65ffc6cba8> False\n",
            "<keras.layers.convolutional.Conv2D object at 0x7f65ffc70c88> False\n",
            "<keras.layers.convolutional.Conv2D object at 0x7f65ffc75b70> False\n",
            "<keras.layers.pooling.MaxPooling2D object at 0x7f65ffc84358> False\n",
            "<keras.layers.convolutional.Conv2D object at 0x7f65ffc0ba90> False\n",
            "<keras.layers.convolutional.Conv2D object at 0x7f65ffc13ba8> False\n",
            "<keras.layers.convolutional.Conv2D object at 0x7f65ffc17a20> False\n",
            "<keras.layers.pooling.MaxPooling2D object at 0x7f65ffc25438> False\n",
            "<keras.layers.convolutional.Conv2D object at 0x7f65ffc2a9b0> True\n",
            "<keras.layers.convolutional.Conv2D object at 0x7f65ffc30b00> True\n",
            "<keras.layers.convolutional.Conv2D object at 0x7f65ffc38860> True\n",
            "<keras.layers.pooling.MaxPooling2D object at 0x7f65ffc43208> True\n"
          ],
          "name": "stdout"
        }
      ]
    },
    {
      "cell_type": "markdown",
      "metadata": {
        "id": "1YgcAh55TGVK",
        "colab_type": "text"
      },
      "source": [
        "###Adding  layers to vgg16 Model"
      ]
    },
    {
      "cell_type": "code",
      "metadata": {
        "id": "JAcO140jPt2h",
        "colab_type": "code",
        "outputId": "3715bb16-8eb4-4603-829a-785280ff4303",
        "colab": {
          "base_uri": "https://localhost:8080/",
          "height": 323
        }
      },
      "source": [
        "from keras import models\n",
        "from keras import layers\n",
        "from keras import optimizers\n",
        " \n",
        "# Create the model\n",
        "model = models.Sequential()\n",
        " \n",
        "# Add the vgg convolutional base model\n",
        "model.add(vgg_conv)\n",
        " \n",
        "# Add new layers\n",
        "model.add(layers.Flatten())\n",
        "model.add(layers.Dense(800, activation='relu'))\n",
        "model.add(layers.Dropout(0.5))\n",
        "model.add(layers.Dense(30, activation='softmax'))\n",
        " \n",
        "# Show a summary of the model. Check the number of trainable parameters\n",
        "model.summary()"
      ],
      "execution_count": 30,
      "outputs": [
        {
          "output_type": "stream",
          "text": [
            "Model: \"sequential_2\"\n",
            "_________________________________________________________________\n",
            "Layer (type)                 Output Shape              Param #   \n",
            "=================================================================\n",
            "vgg16 (Model)                (None, 1, 1, 512)         14714688  \n",
            "_________________________________________________________________\n",
            "flatten_2 (Flatten)          (None, 512)               0         \n",
            "_________________________________________________________________\n",
            "dense_3 (Dense)              (None, 800)               410400    \n",
            "_________________________________________________________________\n",
            "dropout_4 (Dropout)          (None, 800)               0         \n",
            "_________________________________________________________________\n",
            "dense_4 (Dense)              (None, 30)                24030     \n",
            "=================================================================\n",
            "Total params: 15,149,118\n",
            "Trainable params: 7,513,854\n",
            "Non-trainable params: 7,635,264\n",
            "_________________________________________________________________\n"
          ],
          "name": "stdout"
        }
      ]
    },
    {
      "cell_type": "code",
      "metadata": {
        "id": "2Aow9-4MQE8U",
        "colab_type": "code",
        "outputId": "972559b2-72e4-41d1-9dca-1be5ffe28e7d",
        "colab": {
          "base_uri": "https://localhost:8080/",
          "height": 544
        }
      },
      "source": [
        "# Compile the model\n",
        "model.compile(loss='categorical_crossentropy',\n",
        "              optimizer=optimizers.RMSprop(lr=1e-4),\n",
        "              metrics=['acc'])\n",
        "history=  model.fit(train_jena, dummies_train, steps_per_epoch=2,\n",
        "                validation_data= (test_jena,dummies_test),epochs=15,validation_steps=2)"
      ],
      "execution_count": 34,
      "outputs": [
        {
          "output_type": "stream",
          "text": [
            "Train on 1183 samples, validate on 296 samples\n",
            "Epoch 1/15\n",
            "2/2 [==============================] - 87s 43s/step - loss: 3.0417 - acc: 0.4544 - val_loss: 1.9022 - val_acc: 0.4628\n",
            "Epoch 2/15\n",
            "2/2 [==============================] - 87s 44s/step - loss: 2.2716 - acc: 0.4201 - val_loss: 1.2980 - val_acc: 0.5946\n",
            "Epoch 3/15\n",
            "2/2 [==============================] - 86s 43s/step - loss: 1.4280 - acc: 0.5697 - val_loss: 1.1190 - val_acc: 0.6757\n",
            "Epoch 4/15\n",
            "2/2 [==============================] - 85s 43s/step - loss: 1.1136 - acc: 0.6407 - val_loss: 1.0057 - val_acc: 0.7027\n",
            "Epoch 5/15\n",
            "2/2 [==============================] - 88s 44s/step - loss: 1.0276 - acc: 0.6746 - val_loss: 0.9445 - val_acc: 0.6959\n",
            "Epoch 6/15\n",
            "2/2 [==============================] - 85s 42s/step - loss: 1.0354 - acc: 0.6674 - val_loss: 1.0580 - val_acc: 0.6723\n",
            "Epoch 7/15\n",
            "2/2 [==============================] - 84s 42s/step - loss: 0.9745 - acc: 0.6927 - val_loss: 1.0273 - val_acc: 0.6655\n",
            "Epoch 8/15\n",
            "2/2 [==============================] - 87s 44s/step - loss: 1.1154 - acc: 0.6522 - val_loss: 0.9072 - val_acc: 0.7601\n",
            "Epoch 9/15\n",
            "2/2 [==============================] - 86s 43s/step - loss: 0.8901 - acc: 0.7282 - val_loss: 1.0161 - val_acc: 0.6723\n",
            "Epoch 10/15\n",
            "2/2 [==============================] - 87s 44s/step - loss: 0.9996 - acc: 0.6864 - val_loss: 0.8838 - val_acc: 0.7128\n",
            "Epoch 11/15\n",
            "2/2 [==============================] - 87s 44s/step - loss: 0.8544 - acc: 0.7337 - val_loss: 0.9685 - val_acc: 0.6926\n",
            "Epoch 12/15\n",
            "2/2 [==============================] - 93s 46s/step - loss: 0.9976 - acc: 0.6881 - val_loss: 0.7775 - val_acc: 0.7568\n",
            "Epoch 13/15\n",
            "2/2 [==============================] - 93s 46s/step - loss: 0.7858 - acc: 0.7380 - val_loss: 0.7794 - val_acc: 0.7365\n",
            "Epoch 14/15\n",
            "2/2 [==============================] - 91s 46s/step - loss: 0.7938 - acc: 0.7392 - val_loss: 0.9634 - val_acc: 0.7264\n",
            "Epoch 15/15\n",
            "2/2 [==============================] - 90s 45s/step - loss: 0.8317 - acc: 0.7506 - val_loss: 0.8242 - val_acc: 0.7162\n"
          ],
          "name": "stdout"
        }
      ]
    },
    {
      "cell_type": "markdown",
      "metadata": {
        "id": "7289JDzZTYge",
        "colab_type": "text"
      },
      "source": [
        "From the above output we can see that in the epoch 8 validation accuracy  is 76%."
      ]
    },
    {
      "cell_type": "markdown",
      "metadata": {
        "id": "LcG585fdT4iW",
        "colab_type": "text"
      },
      "source": [
        "###Plot for Accuracy"
      ]
    },
    {
      "cell_type": "code",
      "metadata": {
        "id": "0uOvPhroQLWJ",
        "colab_type": "code",
        "outputId": "f41abb76-8d89-4257-fa2e-8fc2ff400332",
        "colab": {
          "base_uri": "https://localhost:8080/",
          "height": 315
        }
      },
      "source": [
        "acc = history.history['acc']\n",
        "val_acc = history.history['val_acc']\n",
        "loss = history.history['loss']\n",
        "val_loss = history.history['val_loss']\n",
        "epochs = range(len(acc))\n",
        "plt.plot(epochs, acc, 'b', label='Training acc')\n",
        "plt.plot(epochs, val_acc, 'r', label='Validation acc')\n",
        "plt.title('Training and validation accuracy')\n",
        "plt.legend()\n",
        " \n",
        "plt.figure()\n",
        " "
      ],
      "execution_count": 35,
      "outputs": [
        {
          "output_type": "execute_result",
          "data": {
            "text/plain": [
              "<Figure size 432x288 with 0 Axes>"
            ]
          },
          "metadata": {
            "tags": []
          },
          "execution_count": 35
        },
        {
          "output_type": "display_data",
          "data": {
            "image/png": "[encoded data removed]",
            "text/plain": [
              "<Figure size 432x288 with 1 Axes>"
            ]
          },
          "metadata": {
            "tags": []
          }
        },
        {
          "output_type": "display_data",
          "data": {
            "text/plain": [
              "<Figure size 432x288 with 0 Axes>"
            ]
          },
          "metadata": {
            "tags": []
          }
        }
      ]
    },
    {
      "cell_type": "markdown",
      "metadata": {
        "id": "mB_IjbYW-N97",
        "colab_type": "text"
      },
      "source": [
        "###Plot for Loss"
      ]
    },
    {
      "cell_type": "code",
      "metadata": {
        "id": "nRUt6ACz-KpO",
        "colab_type": "code",
        "outputId": "d9acefc4-a91e-4641-fa70-65b584f83962",
        "colab": {
          "base_uri": "https://localhost:8080/",
          "height": 281
        }
      },
      "source": [
        "plt.plot(epochs, loss, 'b', label='Training loss')\n",
        "plt.plot(epochs, val_loss, 'r', label='Validation loss')\n",
        "plt.title('Training and validation loss')\n",
        "plt.legend()\n",
        "plt.show()"
      ],
      "execution_count": 36,
      "outputs": [
        {
          "output_type": "display_data",
          "data": {
            "image/png": "[encoded data removed]",
            "text/plain": [
              "<Figure size 432x288 with 1 Axes>"
            ]
          },
          "metadata": {
            "tags": []
          }
        }
      ]
    },
    {
      "cell_type": "markdown",
      "metadata": {
        "id": "740M8jUgq4AB",
        "colab_type": "text"
      },
      "source": [
        "From the above plot we can see that the accuracy for both the training and validation data is increasing and loss is decreasing with epochs. Also we can observe less generalization gap now. We will get a better prediction rate when the model is trained for more epochs."
      ]
    },
    {
      "cell_type": "markdown",
      "metadata": {
        "id": "MguOHpEPCUPY",
        "colab_type": "text"
      },
      "source": [
        "###Results:\n",
        "Model 1 ( 86.4%) and Model 2(76%) had outperformed the baseline acuuracy of 4.7%"
      ]
    }
  ]
}